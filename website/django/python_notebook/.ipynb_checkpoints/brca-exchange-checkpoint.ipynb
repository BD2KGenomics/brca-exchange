{
 "cells": [
  {
   "cell_type": "markdown",
   "metadata": {},
   "source": [
    "### Initialize Client\n",
    "Using the GA4GH client library, to ensure that the request is being formulated in acordance with the GA4GH requirements"
   ]
  },
  {
   "cell_type": "code",
   "execution_count": 27,
   "metadata": {
    "collapsed": true
   },
   "outputs": [],
   "source": [
    "import ga4gh.client as client\n",
    "c = client.HttpClient(\"http://127.0.0.1:8000/data/v0.6.0a7/ga4gh\")"
   ]
  },
  {
   "cell_type": "markdown",
   "metadata": {},
   "source": [
    "### Obtain available datasets\n",
    "Datasets is the highest data level, and the info returned can be use to recursively access the lowest data level. That is, each individual variant."
   ]
  },
  {
   "cell_type": "code",
   "execution_count": 28,
   "metadata": {
    "collapsed": false
   },
   "outputs": [
    {
     "name": "stdout",
     "output_type": "stream",
     "text": [
      "id: \"brca\"\n",
      "name: \"brca-exchange-variants\"\n",
      "description: \"Variants observed in brca-exchange project\"\n",
      "\n"
     ]
    }
   ],
   "source": [
    "dataset = c.search_datasets().next()\n",
    "print dataset"
   ]
  },
  {
   "cell_type": "markdown",
   "metadata": {},
   "source": [
    "### Data set by id method\n",
    "Observe that we can obtain a given dataset, just by knowing its id. Observe that on the previous instance we obtained all the available sets. Currently only one is supported."
   ]
  },
  {
   "cell_type": "code",
   "execution_count": 29,
   "metadata": {
    "collapsed": false
   },
   "outputs": [
    {
     "name": "stdout",
     "output_type": "stream",
     "text": [
      "id: \"brca\"\n",
      "name: \"brca-exchange-variants\"\n",
      "description: \"Variants observed in brca-exchange project\"\n",
      "\n"
     ]
    }
   ],
   "source": [
    "individual_dataset = c.get_dataset(dataset_id=\"brca\")\n",
    "print individual_dataset"
   ]
  },
  {
   "cell_type": "markdown",
   "metadata": {},
   "source": [
    "### Obtaining Variant Sets\n",
    "Note that by querying datasets, we obtain the variants id so that we can \n",
    "make a query to the variant sets and become more specific with which set we want our variants to be build and obtained."
   ]
  },
  {
   "cell_type": "code",
   "execution_count": 30,
   "metadata": {
    "collapsed": false
   },
   "outputs": [
    {
     "name": "stdout",
     "output_type": "stream",
     "text": [
      "Variant Set Id: brca-hg36\n",
      "\tName: brca-exchange-variants-hg36\n",
      "\tReference Set Id: Genomic-Coordinate-hg36\n",
      "\tData Set Id: brca\n",
      "\n",
      "Variant Set Id: brca-hg37\n",
      "\tName: brca-exchange-variants-hg37\n",
      "\tReference Set Id: Genomic-Coordinate-hg37\n",
      "\tData Set Id: brca\n",
      "\n",
      "Variant Set Id: brca-hg38\n",
      "\tName: brca-exchange-variants-hg38\n",
      "\tReference Set Id: Genomic-Coordinate-hg38\n",
      "\tData Set Id: brca\n",
      "\n"
     ]
    }
   ],
   "source": [
    "# `dataset.id` obtained in search datasets call # \n",
    "variant_sets = [i for i in c.search_variant_sets(dataset_id=dataset.id)]\n",
    "Sets = {}\n",
    "for variantSets in variant_sets:\n",
    "    Sets[variantSets.id] = {\"Name\" : variantSets.name, \"Reference Set Id\" : variantSets.reference_set_id,\n",
    "                            \"Data Set Id\" : variantSets.dataset_id}\n",
    "    print\"Variant Set Id: {}\\n\\tName: {}\\n\\tReference Set Id: {}\\n\\tData Set Id: {}\\n\".format(variantSets.id,\n",
    "        variantSets.name, variantSets.reference_set_id, variantSets.dataset_id)"
   ]
  },
  {
   "cell_type": "markdown",
   "metadata": {},
   "source": [
    "##### Note, only selected fields where shown for illustration purposes. Because the independent variantset search will provide other informational parameters, stored as metadata, each with a individual description."
   ]
  },
  {
   "cell_type": "markdown",
   "metadata": {},
   "source": [
    "### Get variant set by id method\n",
    "We can also call a specific set of variants by knowing its id. Currently the distinction of such is derrived from the supported genomic coordinates, so only 3 sets are available. GA4GH supports coordinate hg37, so we will use such to demonstrate the get variantset function "
   ]
  },
  {
   "cell_type": "code",
   "execution_count": 31,
   "metadata": {
    "collapsed": false
   },
   "outputs": [
    {
     "name": "stdout",
     "output_type": "stream",
     "text": [
      "Variant Id: brca-hg37\n",
      "Name: brca-exchange-variants-hg37\n",
      "Dataset Id: brca\n",
      "Reference Set Id: Genomic-Coordinate-hg37\n",
      "\n",
      "Metadata Field: id ;  Value: - ;  Type: AutoField\n",
      "Metadata Field: Variant_in_ENIGMA ;  Value: - ;  Type: BooleanField\n",
      "Metadata Field: Variant_in_ClinVar ;  Value: - ;  Type: BooleanField\n",
      "Metadata Field: Variant_in_1000_Genomes ;  Value: - ;  Type: BooleanField\n",
      "Metadata Field: Variant_in_ExAC ;  Value: - ;  Type: BooleanField\n",
      "Metadata Field: Variant_in_LOVD ;  Value: - ;  Type: BooleanField\n",
      "Metadata Field: Variant_in_BIC ;  Value: - ;  Type: BooleanField\n",
      "Metadata Field: Variant_in_ESP ;  Value: - ;  Type: BooleanField\n",
      "Metadata Field: Variant_in_exLOVD ;  Value: - ;  Type: BooleanField\n",
      "Metadata Field: Source ;  Value: - ;  Type: TextField\n",
      "Metadata Field: URL_ENIGMA ;  Value: - ;  Type: TextField\n",
      "Metadata Field: Condition_ID_type_ENIGMA ;  Value: - ;  Type: TextField\n",
      "Metadata Field: Condition_ID_value_ENIGMA ;  Value: - ;  Type: TextField\n",
      "Metadata Field: Condition_category_ENIGMA ;  Value: - ;  Type: TextField\n",
      "Metadata Field: Clinical_significance_ENIGMA ;  Value: - ;  Type: TextField\n",
      "Metadata Field: Date_last_evaluated_ENIGMA ;  Value: - ;  Type: TextField\n",
      "Metadata Field: Assertion_method_ENIGMA ;  Value: - ;  Type: TextField\n",
      "Metadata Field: Assertion_method_citation_ENIGMA ;  Value: - ;  Type: TextField\n",
      "Metadata Field: Clinical_significance_citations_ENIGMA ;  Value: - ;  Type: TextField\n",
      "Metadata Field: Comment_on_clinical_significance_ENIGMA ;  Value: - ;  Type: TextField\n",
      "Metadata Field: Collection_method_ENIGMA ;  Value: - ;  Type: TextField\n",
      "Metadata Field: Allele_origin_ENIGMA ;  Value: - ;  Type: TextField\n",
      "Metadata Field: ClinVarAccession_ENIGMA ;  Value: - ;  Type: TextField\n",
      "Metadata Field: Clinical_Significance_ClinVar ;  Value: - ;  Type: TextField\n",
      "Metadata Field: Date_Last_Updated_ClinVar ;  Value: - ;  Type: TextField\n",
      "Metadata Field: Submitter_ClinVar ;  Value: - ;  Type: TextField\n",
      "Metadata Field: SCV_ClinVar ;  Value: - ;  Type: TextField\n",
      "Metadata Field: Allele_Origin_ClinVar ;  Value: - ;  Type: TextField\n",
      "Metadata Field: Method_ClinVar ;  Value: - ;  Type: TextField\n",
      "Metadata Field: Functional_analysis_result_LOVD ;  Value: - ;  Type: TextField\n",
      "Metadata Field: Functional_analysis_technique_LOVD ;  Value: - ;  Type: TextField\n",
      "Metadata Field: Variant_frequency_LOVD ;  Value: - ;  Type: TextField\n",
      "Metadata Field: Variant_haplotype_LOVD ;  Value: - ;  Type: TextField\n",
      "Metadata Field: Minor_allele_frequency_ESP ;  Value: - ;  Type: TextField\n",
      "Metadata Field: EUR_Allele_frequency_1000_Genomes ;  Value: - ;  Type: TextField\n",
      "Metadata Field: AFR_Allele_frequency_1000_Genomes ;  Value: - ;  Type: TextField\n",
      "Metadata Field: AMR_Allele_frequency_1000_Genomes ;  Value: - ;  Type: TextField\n",
      "Metadata Field: EAS_Allele_frequency_1000_Genomes ;  Value: - ;  Type: TextField\n",
      "Metadata Field: Allele_frequency_1000_Genomes ;  Value: - ;  Type: TextField\n",
      "Metadata Field: SAS_Allele_frequency_1000_Genomes ;  Value: - ;  Type: TextField\n",
      "Metadata Field: Allele_frequency_ExAC ;  Value: - ;  Type: TextField\n",
      "Metadata Field: Patient_nationality_BIC ;  Value: - ;  Type: TextField\n",
      "Metadata Field: Clinical_importance_BIC ;  Value: - ;  Type: TextField\n",
      "Metadata Field: Clinical_classification_BIC ;  Value: - ;  Type: TextField\n",
      "Metadata Field: Literature_citation_BIC ;  Value: - ;  Type: TextField\n",
      "Metadata Field: Number_of_family_member_carrying_mutation_BIC ;  Value: - ;  Type: TextField\n",
      "Metadata Field: Germline_or_Somatic_BIC ;  Value: - ;  Type: TextField\n",
      "Metadata Field: Ethnicity_BIC ;  Value: - ;  Type: TextField\n",
      "Metadata Field: Mutation_type_BIC ;  Value: - ;  Type: TextField\n",
      "Metadata Field: IARC_class_exLOVD ;  Value: - ;  Type: TextField\n",
      "Metadata Field: Sum_family_LR_exLOVD ;  Value: - ;  Type: TextField\n",
      "Metadata Field: Combined_prior_probablility_exLOVD ;  Value: - ;  Type: TextField\n",
      "Metadata Field: Literature_source_exLOVD ;  Value: - ;  Type: TextField\n",
      "Metadata Field: Co_occurrence_LR_exLOVD ;  Value: - ;  Type: TextField\n",
      "Metadata Field: Posterior_probability_exLOVD ;  Value: - ;  Type: TextField\n",
      "Metadata Field: Missense_analysis_prior_probability_exLOVD ;  Value: - ;  Type: TextField\n",
      "Metadata Field: Segregation_LR_exLOVD ;  Value: - ;  Type: TextField\n",
      "Metadata Field: Gene_Symbol ;  Value: - ;  Type: TextField\n",
      "Metadata Field: Reference_Sequence ;  Value: - ;  Type: TextField\n",
      "Metadata Field: HGVS_cDNA ;  Value: - ;  Type: TextField\n",
      "Metadata Field: BIC_Nomenclature ;  Value: - ;  Type: TextField\n",
      "Metadata Field: HGVS_Protein ;  Value: - ;  Type: TextField\n",
      "Metadata Field: HGVS_RNA ;  Value: - ;  Type: TextField\n",
      "Metadata Field: Protein_Change ;  Value: - ;  Type: TextField\n",
      "Metadata Field: Allele_Frequency ;  Value: - ;  Type: TextField\n",
      "Metadata Field: Max_Allele_Frequency ;  Value: - ;  Type: TextField\n",
      "Metadata Field: Genomic_Coordinate_hg38 ;  Value: - ;  Type: TextField\n",
      "Metadata Field: Hg38_Start ;  Value: - ;  Type: BigIntegerField\n",
      "Metadata Field: Hg38_End ;  Value: - ;  Type: BigIntegerField\n",
      "Metadata Field: Hg37_Start ;  Value: - ;  Type: BigIntegerField\n",
      "Metadata Field: Hg37_End ;  Value: - ;  Type: BigIntegerField\n",
      "Metadata Field: Hg36_Start ;  Value: - ;  Type: BigIntegerField\n",
      "Metadata Field: Hg36_End ;  Value: - ;  Type: BigIntegerField\n",
      "Metadata Field: Genomic_Coordinate_hg37 ;  Value: - ;  Type: TextField\n",
      "Metadata Field: Genomic_Coordinate_hg36 ;  Value: - ;  Type: TextField\n",
      "Metadata Field: Source_URL ;  Value: - ;  Type: TextField\n",
      "Metadata Field: Discordant ;  Value: - ;  Type: TextField\n",
      "Metadata Field: Synonyms ;  Value: - ;  Type: TextField\n",
      "Metadata Field: Pathogenicity_expert ;  Value: - ;  Type: TextField\n",
      "Metadata Field: Pathogenicity_all ;  Value: - ;  Type: TextField\n",
      "Metadata Field: Chr ;  Value: - ;  Type: TextField\n",
      "Metadata Field: Pos ;  Value: - ;  Type: TextField\n",
      "Metadata Field: Ref ;  Value: - ;  Type: TextField\n",
      "Metadata Field: Alt ;  Value: - ;  Type: TextField\n",
      "Metadata Field: Polyphen_Prediction ;  Value: - ;  Type: TextField\n",
      "Metadata Field: Polyphen_Score ;  Value: - ;  Type: TextField\n",
      "Metadata Field: Sift_Score ;  Value: - ;  Type: TextField\n",
      "Metadata Field: Sift_Prediction ;  Value: - ;  Type: TextField\n",
      "Metadata Field: Data_Release ;  Value: - ;  Type: ForeignKey\n",
      "Metadata Field: Change_Type ;  Value: - ;  Type: ForeignKey\n"
     ]
    }
   ],
   "source": [
    "Varset = c.get_variant_set(variant_set_id=\"brca-hg37\")\n",
    "print \"Variant Id: {}\\nName: {}\\nDataset Id: {}\\nReference Set Id: {}\\n\".format(Varset.id, Varset.name, Varset.dataset_id, Varset.reference_set_id)\n",
    "for i in Varset.metadata:\n",
    "    print \"Metadata Field: {} ;  Value: {} ;  Type: {}\".format(i.key, i.value, i.type)"
   ]
  },
  {
   "cell_type": "markdown",
   "metadata": {},
   "source": [
    "### Searching variants\n",
    "Knowing some variant set id obtained in the previous call and the reference name, we can make a taylorized search for variants and obtain the ones which comply with our request.\n"
   ]
  },
  {
   "cell_type": "code",
   "execution_count": 33,
   "metadata": {
    "collapsed": false
   },
   "outputs": [
    {
     "ename": "KeyboardInterrupt",
     "evalue": "",
     "output_type": "error",
     "traceback": [
      "\u001b[0;31m---------------------------------------------------------------------------\u001b[0m",
      "\u001b[0;31mKeyboardInterrupt\u001b[0m                         Traceback (most recent call last)",
      "\u001b[0;32m<ipython-input-33-a9f963236cdb>\u001b[0m in \u001b[0;36m<module>\u001b[0;34m()\u001b[0m\n\u001b[1;32m      1\u001b[0m \u001b[0mcounter\u001b[0m \u001b[0;34m=\u001b[0m \u001b[0;36m0\u001b[0m\u001b[0;34m\u001b[0m\u001b[0m\n\u001b[1;32m      2\u001b[0m \u001b[0mtop\u001b[0m \u001b[0;34m=\u001b[0m \u001b[0;36m55\u001b[0m\u001b[0;34m\u001b[0m\u001b[0m\n\u001b[0;32m----> 3\u001b[0;31m \u001b[0mvariants_in_range\u001b[0m \u001b[0;34m=\u001b[0m \u001b[0;34m[\u001b[0m\u001b[0mi\u001b[0m \u001b[0;32mfor\u001b[0m \u001b[0mi\u001b[0m \u001b[0;32min\u001b[0m \u001b[0mc\u001b[0m\u001b[0;34m.\u001b[0m\u001b[0msearch_variants\u001b[0m\u001b[0;34m(\u001b[0m\u001b[0mreference_name\u001b[0m\u001b[0;34m=\u001b[0m\u001b[0;34m\"chr17\"\u001b[0m\u001b[0;34m,\u001b[0m \u001b[0mvariant_set_id\u001b[0m\u001b[0;34m=\u001b[0m\u001b[0;34m\"brca-hg37\"\u001b[0m\u001b[0;34m,\u001b[0m \u001b[0mstart\u001b[0m\u001b[0;34m=\u001b[0m\u001b[0;36m41246794\u001b[0m\u001b[0;34m,\u001b[0m \u001b[0mend\u001b[0m\u001b[0;34m=\u001b[0m\u001b[0;36m41296814\u001b[0m\u001b[0;34m)\u001b[0m\u001b[0;34m]\u001b[0m\u001b[0;34m\u001b[0m\u001b[0m\n\u001b[0m\u001b[1;32m      4\u001b[0m \u001b[0;32mprint\u001b[0m \u001b[0;34m\"Variants in selected range: {}\\n\"\u001b[0m\u001b[0;34m.\u001b[0m\u001b[0mformat\u001b[0m\u001b[0;34m(\u001b[0m\u001b[0mlen\u001b[0m\u001b[0;34m(\u001b[0m\u001b[0mvariants_in_range\u001b[0m\u001b[0;34m)\u001b[0m\u001b[0;34m)\u001b[0m\u001b[0;34m\u001b[0m\u001b[0m\n\u001b[1;32m      5\u001b[0m \u001b[0;32mfor\u001b[0m \u001b[0mVars\u001b[0m \u001b[0;32min\u001b[0m \u001b[0mvariants_in_range\u001b[0m\u001b[0;34m:\u001b[0m\u001b[0;34m\u001b[0m\u001b[0m\n",
      "\u001b[0;32m/Users/david/brca-exchange/website/django/env/lib/python2.7/site-packages/ga4gh/client.pyc\u001b[0m in \u001b[0;36m_run_search_request\u001b[0;34m(self, protocol_request, object_name, protocol_response_class)\u001b[0m\n\u001b[1;32m     55\u001b[0m         \u001b[0;32mwhile\u001b[0m \u001b[0mnot_done\u001b[0m\u001b[0;34m:\u001b[0m\u001b[0;34m\u001b[0m\u001b[0m\n\u001b[1;32m     56\u001b[0m             response_object = self._run_search_page_request(\n\u001b[0;32m---> 57\u001b[0;31m                 protocol_request, object_name, protocol_response_class)\n\u001b[0m\u001b[1;32m     58\u001b[0m             value_list = getattr(\n\u001b[1;32m     59\u001b[0m                 \u001b[0mresponse_object\u001b[0m\u001b[0;34m,\u001b[0m\u001b[0;34m\u001b[0m\u001b[0m\n",
      "\u001b[0;32m/Users/david/brca-exchange/website/django/env/lib/python2.7/site-packages/ga4gh/client.pyc\u001b[0m in \u001b[0;36m_run_search_page_request\u001b[0;34m(self, protocol_request, object_name, protocol_response_class)\u001b[0m\n\u001b[1;32m    671\u001b[0m         \u001b[0mself\u001b[0m\u001b[0;34m.\u001b[0m\u001b[0m_logger\u001b[0m\u001b[0;34m.\u001b[0m\u001b[0mdebug\u001b[0m\u001b[0;34m(\u001b[0m\u001b[0;34m\"request:{}\"\u001b[0m\u001b[0;34m.\u001b[0m\u001b[0mformat\u001b[0m\u001b[0;34m(\u001b[0m\u001b[0mdata\u001b[0m\u001b[0;34m)\u001b[0m\u001b[0;34m)\u001b[0m\u001b[0;34m\u001b[0m\u001b[0m\n\u001b[1;32m    672\u001b[0m         response = self._session.post(\n\u001b[0;32m--> 673\u001b[0;31m             url, params=self._get_http_parameters(), data=data)\n\u001b[0m\u001b[1;32m    674\u001b[0m         \u001b[0mself\u001b[0m\u001b[0;34m.\u001b[0m\u001b[0m_check_response_status\u001b[0m\u001b[0;34m(\u001b[0m\u001b[0mresponse\u001b[0m\u001b[0;34m)\u001b[0m\u001b[0;34m\u001b[0m\u001b[0m\n\u001b[1;32m    675\u001b[0m         return self._deserialize_response(\n",
      "\u001b[0;32m/Users/david/brca-exchange/website/django/env/lib/python2.7/site-packages/requests/sessions.pyc\u001b[0m in \u001b[0;36mpost\u001b[0;34m(self, url, data, json, **kwargs)\u001b[0m\n\u001b[1;32m    512\u001b[0m         \"\"\"\n\u001b[1;32m    513\u001b[0m \u001b[0;34m\u001b[0m\u001b[0m\n\u001b[0;32m--> 514\u001b[0;31m         \u001b[0;32mreturn\u001b[0m \u001b[0mself\u001b[0m\u001b[0;34m.\u001b[0m\u001b[0mrequest\u001b[0m\u001b[0;34m(\u001b[0m\u001b[0;34m'POST'\u001b[0m\u001b[0;34m,\u001b[0m \u001b[0murl\u001b[0m\u001b[0;34m,\u001b[0m \u001b[0mdata\u001b[0m\u001b[0;34m=\u001b[0m\u001b[0mdata\u001b[0m\u001b[0;34m,\u001b[0m \u001b[0mjson\u001b[0m\u001b[0;34m=\u001b[0m\u001b[0mjson\u001b[0m\u001b[0;34m,\u001b[0m \u001b[0;34m**\u001b[0m\u001b[0mkwargs\u001b[0m\u001b[0;34m)\u001b[0m\u001b[0;34m\u001b[0m\u001b[0m\n\u001b[0m\u001b[1;32m    515\u001b[0m \u001b[0;34m\u001b[0m\u001b[0m\n\u001b[1;32m    516\u001b[0m     \u001b[0;32mdef\u001b[0m \u001b[0mput\u001b[0m\u001b[0;34m(\u001b[0m\u001b[0mself\u001b[0m\u001b[0;34m,\u001b[0m \u001b[0murl\u001b[0m\u001b[0;34m,\u001b[0m \u001b[0mdata\u001b[0m\u001b[0;34m=\u001b[0m\u001b[0mNone\u001b[0m\u001b[0;34m,\u001b[0m \u001b[0;34m**\u001b[0m\u001b[0mkwargs\u001b[0m\u001b[0;34m)\u001b[0m\u001b[0;34m:\u001b[0m\u001b[0;34m\u001b[0m\u001b[0m\n",
      "\u001b[0;32m/Users/david/brca-exchange/website/django/env/lib/python2.7/site-packages/requests/sessions.pyc\u001b[0m in \u001b[0;36mrequest\u001b[0;34m(self, method, url, params, data, headers, cookies, files, auth, timeout, allow_redirects, proxies, hooks, stream, verify, cert, json)\u001b[0m\n\u001b[1;32m    469\u001b[0m         }\n\u001b[1;32m    470\u001b[0m         \u001b[0msend_kwargs\u001b[0m\u001b[0;34m.\u001b[0m\u001b[0mupdate\u001b[0m\u001b[0;34m(\u001b[0m\u001b[0msettings\u001b[0m\u001b[0;34m)\u001b[0m\u001b[0;34m\u001b[0m\u001b[0m\n\u001b[0;32m--> 471\u001b[0;31m         \u001b[0mresp\u001b[0m \u001b[0;34m=\u001b[0m \u001b[0mself\u001b[0m\u001b[0;34m.\u001b[0m\u001b[0msend\u001b[0m\u001b[0;34m(\u001b[0m\u001b[0mprep\u001b[0m\u001b[0;34m,\u001b[0m \u001b[0;34m**\u001b[0m\u001b[0msend_kwargs\u001b[0m\u001b[0;34m)\u001b[0m\u001b[0;34m\u001b[0m\u001b[0m\n\u001b[0m\u001b[1;32m    472\u001b[0m \u001b[0;34m\u001b[0m\u001b[0m\n\u001b[1;32m    473\u001b[0m         \u001b[0;32mreturn\u001b[0m \u001b[0mresp\u001b[0m\u001b[0;34m\u001b[0m\u001b[0m\n",
      "\u001b[0;32m/Users/david/brca-exchange/website/django/env/lib/python2.7/site-packages/requests/sessions.pyc\u001b[0m in \u001b[0;36msend\u001b[0;34m(self, request, **kwargs)\u001b[0m\n\u001b[1;32m    579\u001b[0m \u001b[0;34m\u001b[0m\u001b[0m\n\u001b[1;32m    580\u001b[0m         \u001b[0;31m# Send the request\u001b[0m\u001b[0;34m\u001b[0m\u001b[0;34m\u001b[0m\u001b[0m\n\u001b[0;32m--> 581\u001b[0;31m         \u001b[0mr\u001b[0m \u001b[0;34m=\u001b[0m \u001b[0madapter\u001b[0m\u001b[0;34m.\u001b[0m\u001b[0msend\u001b[0m\u001b[0;34m(\u001b[0m\u001b[0mrequest\u001b[0m\u001b[0;34m,\u001b[0m \u001b[0;34m**\u001b[0m\u001b[0mkwargs\u001b[0m\u001b[0;34m)\u001b[0m\u001b[0;34m\u001b[0m\u001b[0m\n\u001b[0m\u001b[1;32m    582\u001b[0m \u001b[0;34m\u001b[0m\u001b[0m\n\u001b[1;32m    583\u001b[0m         \u001b[0;31m# Total elapsed time of the request (approximately)\u001b[0m\u001b[0;34m\u001b[0m\u001b[0;34m\u001b[0m\u001b[0m\n",
      "\u001b[0;32m/Users/david/brca-exchange/website/django/env/lib/python2.7/site-packages/requests/adapters.pyc\u001b[0m in \u001b[0;36msend\u001b[0;34m(self, request, stream, timeout, verify, cert, proxies)\u001b[0m\n\u001b[1;32m    415\u001b[0m                     \u001b[0mdecode_content\u001b[0m\u001b[0;34m=\u001b[0m\u001b[0mFalse\u001b[0m\u001b[0;34m,\u001b[0m\u001b[0;34m\u001b[0m\u001b[0m\n\u001b[1;32m    416\u001b[0m                     \u001b[0mretries\u001b[0m\u001b[0;34m=\u001b[0m\u001b[0mself\u001b[0m\u001b[0;34m.\u001b[0m\u001b[0mmax_retries\u001b[0m\u001b[0;34m,\u001b[0m\u001b[0;34m\u001b[0m\u001b[0m\n\u001b[0;32m--> 417\u001b[0;31m                     \u001b[0mtimeout\u001b[0m\u001b[0;34m=\u001b[0m\u001b[0mtimeout\u001b[0m\u001b[0;34m\u001b[0m\u001b[0m\n\u001b[0m\u001b[1;32m    418\u001b[0m                 )\n\u001b[1;32m    419\u001b[0m \u001b[0;34m\u001b[0m\u001b[0m\n",
      "\u001b[0;32m/Users/david/brca-exchange/website/django/env/lib/python2.7/site-packages/requests/packages/urllib3/connectionpool.pyc\u001b[0m in \u001b[0;36murlopen\u001b[0;34m(self, method, url, body, headers, retries, redirect, assert_same_host, timeout, pool_timeout, release_conn, chunked, **response_kw)\u001b[0m\n\u001b[1;32m    593\u001b[0m                                                   \u001b[0mtimeout\u001b[0m\u001b[0;34m=\u001b[0m\u001b[0mtimeout_obj\u001b[0m\u001b[0;34m,\u001b[0m\u001b[0;34m\u001b[0m\u001b[0m\n\u001b[1;32m    594\u001b[0m                                                   \u001b[0mbody\u001b[0m\u001b[0;34m=\u001b[0m\u001b[0mbody\u001b[0m\u001b[0;34m,\u001b[0m \u001b[0mheaders\u001b[0m\u001b[0;34m=\u001b[0m\u001b[0mheaders\u001b[0m\u001b[0;34m,\u001b[0m\u001b[0;34m\u001b[0m\u001b[0m\n\u001b[0;32m--> 595\u001b[0;31m                                                   chunked=chunked)\n\u001b[0m\u001b[1;32m    596\u001b[0m \u001b[0;34m\u001b[0m\u001b[0m\n\u001b[1;32m    597\u001b[0m             \u001b[0;31m# If we're going to release the connection in ``finally:``, then\u001b[0m\u001b[0;34m\u001b[0m\u001b[0;34m\u001b[0m\u001b[0m\n",
      "\u001b[0;32m/Users/david/brca-exchange/website/django/env/lib/python2.7/site-packages/requests/packages/urllib3/connectionpool.pyc\u001b[0m in \u001b[0;36m_make_request\u001b[0;34m(self, conn, method, url, timeout, chunked, **httplib_request_kw)\u001b[0m\n\u001b[1;32m    384\u001b[0m         \u001b[0;32mtry\u001b[0m\u001b[0;34m:\u001b[0m\u001b[0;34m\u001b[0m\u001b[0m\n\u001b[1;32m    385\u001b[0m             \u001b[0;32mtry\u001b[0m\u001b[0;34m:\u001b[0m  \u001b[0;31m# Python 2.7, use buffering of HTTP responses\u001b[0m\u001b[0;34m\u001b[0m\u001b[0m\n\u001b[0;32m--> 386\u001b[0;31m                 \u001b[0mhttplib_response\u001b[0m \u001b[0;34m=\u001b[0m \u001b[0mconn\u001b[0m\u001b[0;34m.\u001b[0m\u001b[0mgetresponse\u001b[0m\u001b[0;34m(\u001b[0m\u001b[0mbuffering\u001b[0m\u001b[0;34m=\u001b[0m\u001b[0mTrue\u001b[0m\u001b[0;34m)\u001b[0m\u001b[0;34m\u001b[0m\u001b[0m\n\u001b[0m\u001b[1;32m    387\u001b[0m             \u001b[0;32mexcept\u001b[0m \u001b[0mTypeError\u001b[0m\u001b[0;34m:\u001b[0m  \u001b[0;31m# Python 2.6 and older, Python 3\u001b[0m\u001b[0;34m\u001b[0m\u001b[0m\n\u001b[1;32m    388\u001b[0m                 \u001b[0;32mtry\u001b[0m\u001b[0;34m:\u001b[0m\u001b[0;34m\u001b[0m\u001b[0m\n",
      "\u001b[0;32m/usr/local/Cellar/python/2.7.11/Frameworks/Python.framework/Versions/2.7/lib/python2.7/httplib.pyc\u001b[0m in \u001b[0;36mgetresponse\u001b[0;34m(self, buffering)\u001b[0m\n\u001b[1;32m   1134\u001b[0m \u001b[0;34m\u001b[0m\u001b[0m\n\u001b[1;32m   1135\u001b[0m         \u001b[0;32mtry\u001b[0m\u001b[0;34m:\u001b[0m\u001b[0;34m\u001b[0m\u001b[0m\n\u001b[0;32m-> 1136\u001b[0;31m             \u001b[0mresponse\u001b[0m\u001b[0;34m.\u001b[0m\u001b[0mbegin\u001b[0m\u001b[0;34m(\u001b[0m\u001b[0;34m)\u001b[0m\u001b[0;34m\u001b[0m\u001b[0m\n\u001b[0m\u001b[1;32m   1137\u001b[0m             \u001b[0;32massert\u001b[0m \u001b[0mresponse\u001b[0m\u001b[0;34m.\u001b[0m\u001b[0mwill_close\u001b[0m \u001b[0;34m!=\u001b[0m \u001b[0m_UNKNOWN\u001b[0m\u001b[0;34m\u001b[0m\u001b[0m\n\u001b[1;32m   1138\u001b[0m             \u001b[0mself\u001b[0m\u001b[0;34m.\u001b[0m\u001b[0m__state\u001b[0m \u001b[0;34m=\u001b[0m \u001b[0m_CS_IDLE\u001b[0m\u001b[0;34m\u001b[0m\u001b[0m\n",
      "\u001b[0;32m/usr/local/Cellar/python/2.7.11/Frameworks/Python.framework/Versions/2.7/lib/python2.7/httplib.pyc\u001b[0m in \u001b[0;36mbegin\u001b[0;34m(self)\u001b[0m\n\u001b[1;32m    451\u001b[0m         \u001b[0;31m# read until we get a non-100 response\u001b[0m\u001b[0;34m\u001b[0m\u001b[0;34m\u001b[0m\u001b[0m\n\u001b[1;32m    452\u001b[0m         \u001b[0;32mwhile\u001b[0m \u001b[0mTrue\u001b[0m\u001b[0;34m:\u001b[0m\u001b[0;34m\u001b[0m\u001b[0m\n\u001b[0;32m--> 453\u001b[0;31m             \u001b[0mversion\u001b[0m\u001b[0;34m,\u001b[0m \u001b[0mstatus\u001b[0m\u001b[0;34m,\u001b[0m \u001b[0mreason\u001b[0m \u001b[0;34m=\u001b[0m \u001b[0mself\u001b[0m\u001b[0;34m.\u001b[0m\u001b[0m_read_status\u001b[0m\u001b[0;34m(\u001b[0m\u001b[0;34m)\u001b[0m\u001b[0;34m\u001b[0m\u001b[0m\n\u001b[0m\u001b[1;32m    454\u001b[0m             \u001b[0;32mif\u001b[0m \u001b[0mstatus\u001b[0m \u001b[0;34m!=\u001b[0m \u001b[0mCONTINUE\u001b[0m\u001b[0;34m:\u001b[0m\u001b[0;34m\u001b[0m\u001b[0m\n\u001b[1;32m    455\u001b[0m                 \u001b[0;32mbreak\u001b[0m\u001b[0;34m\u001b[0m\u001b[0m\n",
      "\u001b[0;32m/usr/local/Cellar/python/2.7.11/Frameworks/Python.framework/Versions/2.7/lib/python2.7/httplib.pyc\u001b[0m in \u001b[0;36m_read_status\u001b[0;34m(self)\u001b[0m\n\u001b[1;32m    407\u001b[0m     \u001b[0;32mdef\u001b[0m \u001b[0m_read_status\u001b[0m\u001b[0;34m(\u001b[0m\u001b[0mself\u001b[0m\u001b[0;34m)\u001b[0m\u001b[0;34m:\u001b[0m\u001b[0;34m\u001b[0m\u001b[0m\n\u001b[1;32m    408\u001b[0m         \u001b[0;31m# Initialize with Simple-Response defaults\u001b[0m\u001b[0;34m\u001b[0m\u001b[0;34m\u001b[0m\u001b[0m\n\u001b[0;32m--> 409\u001b[0;31m         \u001b[0mline\u001b[0m \u001b[0;34m=\u001b[0m \u001b[0mself\u001b[0m\u001b[0;34m.\u001b[0m\u001b[0mfp\u001b[0m\u001b[0;34m.\u001b[0m\u001b[0mreadline\u001b[0m\u001b[0;34m(\u001b[0m\u001b[0m_MAXLINE\u001b[0m \u001b[0;34m+\u001b[0m \u001b[0;36m1\u001b[0m\u001b[0;34m)\u001b[0m\u001b[0;34m\u001b[0m\u001b[0m\n\u001b[0m\u001b[1;32m    410\u001b[0m         \u001b[0;32mif\u001b[0m \u001b[0mlen\u001b[0m\u001b[0;34m(\u001b[0m\u001b[0mline\u001b[0m\u001b[0;34m)\u001b[0m \u001b[0;34m>\u001b[0m \u001b[0m_MAXLINE\u001b[0m\u001b[0;34m:\u001b[0m\u001b[0;34m\u001b[0m\u001b[0m\n\u001b[1;32m    411\u001b[0m             \u001b[0;32mraise\u001b[0m \u001b[0mLineTooLong\u001b[0m\u001b[0;34m(\u001b[0m\u001b[0;34m\"header line\"\u001b[0m\u001b[0;34m)\u001b[0m\u001b[0;34m\u001b[0m\u001b[0m\n",
      "\u001b[0;32m/usr/local/Cellar/python/2.7.11/Frameworks/Python.framework/Versions/2.7/lib/python2.7/socket.pyc\u001b[0m in \u001b[0;36mreadline\u001b[0;34m(self, size)\u001b[0m\n\u001b[1;32m    478\u001b[0m             \u001b[0;32mwhile\u001b[0m \u001b[0mTrue\u001b[0m\u001b[0;34m:\u001b[0m\u001b[0;34m\u001b[0m\u001b[0m\n\u001b[1;32m    479\u001b[0m                 \u001b[0;32mtry\u001b[0m\u001b[0;34m:\u001b[0m\u001b[0;34m\u001b[0m\u001b[0m\n\u001b[0;32m--> 480\u001b[0;31m                     \u001b[0mdata\u001b[0m \u001b[0;34m=\u001b[0m \u001b[0mself\u001b[0m\u001b[0;34m.\u001b[0m\u001b[0m_sock\u001b[0m\u001b[0;34m.\u001b[0m\u001b[0mrecv\u001b[0m\u001b[0;34m(\u001b[0m\u001b[0mself\u001b[0m\u001b[0;34m.\u001b[0m\u001b[0m_rbufsize\u001b[0m\u001b[0;34m)\u001b[0m\u001b[0;34m\u001b[0m\u001b[0m\n\u001b[0m\u001b[1;32m    481\u001b[0m                 \u001b[0;32mexcept\u001b[0m \u001b[0merror\u001b[0m\u001b[0;34m,\u001b[0m \u001b[0me\u001b[0m\u001b[0;34m:\u001b[0m\u001b[0;34m\u001b[0m\u001b[0m\n\u001b[1;32m    482\u001b[0m                     \u001b[0;32mif\u001b[0m \u001b[0me\u001b[0m\u001b[0;34m.\u001b[0m\u001b[0margs\u001b[0m\u001b[0;34m[\u001b[0m\u001b[0;36m0\u001b[0m\u001b[0;34m]\u001b[0m \u001b[0;34m==\u001b[0m \u001b[0mEINTR\u001b[0m\u001b[0;34m:\u001b[0m\u001b[0;34m\u001b[0m\u001b[0m\n",
      "\u001b[0;31mKeyboardInterrupt\u001b[0m: "
     ]
    }
   ],
   "source": [
    "counter = 0\n",
    "print \"Variants in selected range: {}\\n\".format(len(variants_in_range))\n",
    "for Vars in c.search_variants(reference_name=\"chr17\", variant_set_id=\"brca-hg37\", start=41246794, end=41296814):\n",
    "    print \"Variant Id: {},\\tVariant Set Id: {},\\tReference Name: {}\\n\\tVariant Start: {},\\tVariant End: {}\\n\\tReference Bases: {},\\tAlternate Bases: {},\\tClinical Significance: {}\\n\".format(Vars.id, Vars.variant_set_id,Vars.reference_name,Vars.start, Vars.end,Vars.reference_bases,Vars.alternate_bases,SigVar)\n",
    "    if counter >= 5:\n",
    "        break\n",
    "    counter += 1"
   ]
  },
  {
   "cell_type": "markdown",
   "metadata": {},
   "source": [
    "##### Note, observe that only a selected amount of parameters where chosen to be displayed under variants search method. But the metadata fields which are defined are also available in this request. Potential fields available are defined under \"Get variant set by id method\" example "
   ]
  },
  {
   "cell_type": "markdown",
   "metadata": {},
   "source": [
    "### Get variant by id\n",
    "Observe that in the above example we obtain id's for the variants available, which are contained within the requested genomic range. Also, other fields which are present are also displayed in the call.  "
   ]
  },
  {
   "cell_type": "code",
   "execution_count": 7,
   "metadata": {
    "collapsed": false
   },
   "outputs": [
    {
     "name": "stdout",
     "output_type": "stream",
     "text": [
      "Variant Id: hg37-398,\tVariant Set Id: brca-hg37,\tReference Name: chr17\n",
      "\tVariant Start: 41258469,\tVariant End: 41258470\n",
      "\tReference Bases: T,\tAlternate Bases: [u'C'],\tClinical Significance: Pathogenic\n",
      "\n",
      "Pathogenicity_research: \tPathogenic(ENIGMA); Pathogenic (ClinVar); Pending (BIC)\n",
      "Literature_source_exLOVD: \tEaston DF et al., Am J Hum Genet, 81: 873-883, 2007.\n",
      "ClinVarAccession_ENIGMA: \tSCV000244314\n",
      "Discordant: \tConcordant\n",
      "Condition_category_ENIGMA: \tDisease\n",
      "Date_Last_Updated_ClinVar: \t2015-08-10,2010-02-17\n",
      "Reference_Name: \tchr17\n",
      "Variant_in_LOVD: \t0.0\n",
      "Segregation_LR_exLOVD: \t1\n",
      "Source_URL: \thttp://hci-exlovd.hci.utah.edu/variants.php?select_db=BRCA1&action=search_all&search_Variant%2FDNA=c.212+3A>G, http://www.ncbi.nlm.nih.gov/clinvar/?term=SCV000244314, http://www.ncbi.nlm.nih.gov/clinvar/?term=SCV000115252\n",
      "Source: \tENIGMA,ClinVar,LOVD,BIC,exLOVD\n",
      "Condition_ID_value_ENIGMA: \tBREAST-OVARIAN CANCER, FAMILIAL, SUSCEPTIBILITY TO, 1; BROVCA1 (604370)\n",
      "HGVS_Protein: \tNP_009225.1:p.?\n",
      "Co_occurrence_LR_exLOVD: \t1.32\n",
      "Variant_in_exLOVD: \t0.0\n",
      "Reference_Sequence: \tNM_007294.3\n",
      "Clinical_Significance_ClinVar: \tPathogenic\n",
      "Functional_analysis_result_LOVD: \t\"as wildtype control,predicted deleterious,-,as variant control,deletion 22 nt from 3' end exon 5\"\n",
      "Variant_in_ESP: \t0.0\n",
      "Variant_in_BIC: \t0.0\n",
      "Clinical_significance_ENIGMA: \tPathogenic\n",
      "Synonyms: \tNM_007294.2:c.212+3A>G,NM_007300.3:c.212+3A>G,NM_007299.3:c.212+3A>G,NM_007298.3:c.212+3A>G,NM_007297.3:c.71+3A>G,U14680.1:c.324+3A>G\n",
      "Clinical_classification_BIC: \tPending\n",
      "id: \t398\n",
      "Hg37_End: \t41258470\n",
      "Gene_Symbol: \tBRCA1\n",
      "Comment_on_clinical_significance_ENIGMA: \tIARC class based on posterior probability from multifactorial likelihood analysis, thresholds for class as per Plon et al. 2008 (PMID: 18951446). Class 5 based on posterior probability = 1\n",
      "Sum_family_LR_exLOVD: \t1.10E+03\n",
      "Method_ClinVar: \tcuration,clinical_testing\n",
      "Patient_nationality_BIC: \tFrench?,German,Belgian,-,Belgian?\n",
      "Variant_in_ENIGMA: \t0.0\n",
      "Posterior_probability_exLOVD: \t1.000\n",
      "Germline_or_Somatic_BIC: \t-,G\n",
      "Genomic_Coordinate_hg37: \tchr17:41258470:T>C\n",
      "Genomic_Coordinate_hg36: \tchr17:38511996:T>C\n",
      "BIC_Identifier: \tIVS5+3A>G\n",
      "Number_of_family_member_carrying_mutation_BIC: \t1,2,-\n",
      "Hg37_Start: \t41258469\n",
      "Hg36_Start: \t38511995\n",
      "Clinical_importance_BIC: \tunknown\n",
      "Submitter_ClinVar: \tEvidence-based_Network_for_the_Interpretation_of_Germline_Mutant_Alleles_(ENIGMA),Sharing_Clinical_Reports_Project_(SCRP)\n",
      "Genomic_Coordinate_hg38: \tchr17:43106453:T>C\n",
      "Assertion_method_ENIGMA: \tENIGMA BRCA1/2 Classification Criteria (2015)\n",
      "Clinical_significance_citations_ENIGMA: \tPMID:21990134\n",
      "HGVS_cDNA: \tNM_007294.3:c.212+3A>G\n",
      "Functional_analysis_technique_LOVD: \tSplicing reporter minigene,mRNA analysis (RT-PCR),-,Multifactorial likelihood-ratio model,splicing reporter minigene/patient RNA analysis\n",
      "Collection_method_ENIGMA: \tCuration\n",
      "Hg36_End: \t38511996\n",
      "Mutation_type_BIC: \tIVS\n",
      "Combined_prior_probablility_exLOVD: \t0.97\n",
      "Hg38_End: \t43106453\n",
      "IARC_class_exLOVD: \t5 - Definitely pathogenic\n",
      "Literature_citation_BIC: \tUnpublished,-, Hum Mut 13:256,\"\"\"\"Claes et al., 1998 \"\"\"\"\n",
      "Assertion_method_citation_ENIGMA: \thttp://enigmaconsortium.org/documents/ENIGMA_Rules_2015-03-26.pdf\n",
      "SCV_ClinVar: \tSCV000244314,SCV000115252\n",
      "Condition_ID_type_ENIGMA: \tOMIM\n",
      "Ethnicity_BIC: \t-,Caucasian,Native American,caucasian\n",
      "Hg38_Start: \t43106452\n",
      "Date_last_evaluated_ENIGMA: \t8/10/15\n",
      "Pathogenicity_default: \tPathogenic\n",
      "Variant_in_ExAC: \t0.0\n",
      "URL_ENIGMA: \thttp://hci-exlovd.hci.utah.edu/variants.php?select_db=BRCA1&action=search_all&search_Variant%2FDNA=c.212+3A>G\n",
      "Variant_in_ClinVar: \t0.0\n",
      "Allele_origin_ENIGMA: \tGermline\n",
      "Origin_of_variant_LOVD: \tIn vitro (cloned),Unknown,Germline (inherited)\n",
      "Allele_Origin_ClinVar: \tgermline\n",
      "Variant_in_1000_Genomes: \t0.0\n"
     ]
    }
   ],
   "source": [
    "SingleVar = c.get_variant(variant_id=\"hg37-398\")\n",
    "SigVar = SingleVar.info[\"Pathogenicity_default\"].values[0].string_value\n",
    "print \"Variant Id: {},\\tVariant Set Id: {},\\tReference Name: {}\\n\\tVariant Start: {},\\tVariant End: {}\\n\\tReference Bases: {},\\tAlternate Bases: {},\\tClinical Significance: {}\\n\".format(SingleVar.id, SingleVar.variant_set_id,SingleVar.reference_name,SingleVar.start, SingleVar.end,SingleVar.reference_bases,SingleVar.alternate_bases,SigVar)\n",
    "for i in SingleVar.info:\n",
    "    print \"{}: \\t{}\".format(i, SingleVar.info[str(i)].values[0].string_value or SingleVar.info[str(i)].values[0].number_value)"
   ]
  }
 ],
 "metadata": {
  "kernelspec": {
   "display_name": "Python 2",
   "language": "python",
   "name": "python2"
  },
  "language_info": {
   "codemirror_mode": {
    "name": "ipython",
    "version": 2
   },
   "file_extension": ".py",
   "mimetype": "text/x-python",
   "name": "python",
   "nbconvert_exporter": "python",
   "pygments_lexer": "ipython2",
   "version": "2.7.11"
  },
  "widgets": {
   "state": {},
   "version": "1.1.1"
  }
 },
 "nbformat": 4,
 "nbformat_minor": 1
}
